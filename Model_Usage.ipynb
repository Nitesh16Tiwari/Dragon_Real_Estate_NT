{
 "cells": [
  {
   "cell_type": "code",
   "execution_count": 5,
   "id": "3aa8f059-18a3-49d9-9dd5-a7fb26a4f580",
   "metadata": {},
   "outputs": [],
   "source": [
    "from joblib import dump, load\n",
    "import numpy as np"
   ]
  },
  {
   "cell_type": "code",
   "execution_count": 6,
   "id": "2800a852-dea0-4c83-8186-2884ed96ff0a",
   "metadata": {},
   "outputs": [],
   "source": [
    "model = load('Dragon_Real_Estate.joblib')"
   ]
  },
  {
   "cell_type": "code",
   "execution_count": 7,
   "id": "97fa8018-07dc-4f99-842e-adb8d98ae77b",
   "metadata": {},
   "outputs": [
    {
     "data": {
      "text/plain": [
       "array([22.45])"
      ]
     },
     "execution_count": 7,
     "metadata": {},
     "output_type": "execute_result"
    }
   ],
   "source": [
    "input = np.array([[-0.43942006,  3.12628155, -1.12165014, -0.27288841, -1.42262747,\n",
    "       -0.23827071, -1.31238772,  2.61111401, -1.0016859 , -0.5778192 ,\n",
    "       -0.97491834,  0.41164221, -0.86091034]])\n",
    "model.predict(input)"
   ]
  },
  {
   "cell_type": "code",
   "execution_count": 8,
   "id": "e93fb535-8651-421e-9f8c-5dadd3e8cbd2",
   "metadata": {},
   "outputs": [
    {
     "data": {
      "text/plain": [
       "array([25.316])"
      ]
     },
     "execution_count": 8,
     "metadata": {},
     "output_type": "execute_result"
    }
   ],
   "source": [
    "\n",
    "input = np.array([[-0.44352175,  3.12628155, -1.35893781, -0.27288841, -1.0542567 ,\n",
    "        0.50444544, -1.3938808 ,  2.19312325, -0.65766683, -0.78557904,\n",
    "       -0.69277865,  0.39131918, -0.94116739]])\n",
    "model.predict(input)"
   ]
  },
  {
   "cell_type": "code",
   "execution_count": 9,
   "id": "544a4b1e-5d04-4fdb-9c13-5d6dc27afdd9",
   "metadata": {},
   "outputs": [
    {
     "data": {
      "text/plain": [
       "array([16.822])"
      ]
     },
     "execution_count": 9,
     "metadata": {},
     "output_type": "execute_result"
    }
   ],
   "source": [
    "input = np.array([[ 0.15682292, -0.4898311 ,  0.98336806, -0.27288841,  0.47919371,\n",
    "        0.29163682,  0.87020968, -0.68730678,  1.63579367,  1.50571521,\n",
    "        0.81196637,  0.44624347,  0.81480158]])\n",
    "model.predict(input)"
   ]
  },
  {
   "cell_type": "markdown",
   "id": "e9cbdd48-c0fa-4dc7-8585-28413f1316c0",
   "metadata": {},
   "source": [
    "We can check our model performance by changing the values or by putting different feature value"
   ]
  },
  {
   "cell_type": "code",
   "execution_count": null,
   "id": "a0c8c284-63d8-4dad-8de1-8a3555693214",
   "metadata": {},
   "outputs": [],
   "source": []
  }
 ],
 "metadata": {
  "kernelspec": {
   "display_name": "Python 3 (ipykernel)",
   "language": "python",
   "name": "python3"
  },
  "language_info": {
   "codemirror_mode": {
    "name": "ipython",
    "version": 3
   },
   "file_extension": ".py",
   "mimetype": "text/x-python",
   "name": "python",
   "nbconvert_exporter": "python",
   "pygments_lexer": "ipython3",
   "version": "3.11.5"
  }
 },
 "nbformat": 4,
 "nbformat_minor": 5
}
